{
 "cells": [
  {
   "cell_type": "markdown",
   "id": "856ee53e",
   "metadata": {},
   "source": [
    "### Configuração de dados"
   ]
  },
  {
   "cell_type": "code",
   "execution_count": 1,
   "id": "f9594ab9",
   "metadata": {},
   "outputs": [],
   "source": [
    "import pandas as pd\n",
    "import matplotlib.pyplot as plt\n",
    "import seaborn as sns\n",
    "\n",
    "test = pd.read_csv('C:\\\\Users\\\\Estrela\\\\Desktop\\\\Treino\\\\titanic\\\\test.csv')\n",
    "train = pd.read_csv('C:\\\\Users\\\\Estrela\\\\Desktop\\\\Treino\\\\titanic\\\\train.csv')\n",
    "gender_submission = pd.read_csv('C:\\\\Users\\\\Estrela\\\\Desktop\\\\Treino\\\\titanic\\\\gender_submission.csv')"
   ]
  },
  {
   "cell_type": "code",
   "execution_count": 2,
   "id": "13b21abc",
   "metadata": {},
   "outputs": [],
   "source": [
    "# Função para promover agilidade em analises.\n",
    "\n",
    "def analise(coluna):\n",
    "    \n",
    "    # Transformando lista de constantes únicas e suas quantidades em string.\n",
    "    \n",
    "    constantes_unicas = ''\n",
    "    \n",
    "    for i in range(len(list(coluna.value_counts()))):           \n",
    "        if   (i == 0):\n",
    "            constantes_unicas += str(list(coluna.value_counts())[i]) + ' \"' + str(list(coluna.value_counts().index)[i]) + '\",'\n",
    "            \n",
    "        elif (i == len(coluna.unique()) - 1):\n",
    "            constantes_unicas += ' ' + str(list(coluna.value_counts())[i]) + ' \"' + str(list(coluna.value_counts().index)[i]) + '\"'\n",
    "            \n",
    "        else:\n",
    "            constantes_unicas += ' ' + str(list(coluna.value_counts())[i]) + ' \"' + str(list(coluna.value_counts().index)[i]) + '\",'\n",
    "    \n",
    "    # Análise dos dados\n",
    "    \n",
    "    print(f'Existem {coluna.nunique()} constantes únicas que são {constantes_unicas} e {coluna.isna().sum()} dados faltantes.')"
   ]
  },
  {
   "cell_type": "code",
   "execution_count": 3,
   "id": "bf887209",
   "metadata": {},
   "outputs": [
    {
     "data": {
      "text/html": [
       "<div>\n",
       "<style scoped>\n",
       "    .dataframe tbody tr th:only-of-type {\n",
       "        vertical-align: middle;\n",
       "    }\n",
       "\n",
       "    .dataframe tbody tr th {\n",
       "        vertical-align: top;\n",
       "    }\n",
       "\n",
       "    .dataframe thead th {\n",
       "        text-align: right;\n",
       "    }\n",
       "</style>\n",
       "<table border=\"1\" class=\"dataframe\">\n",
       "  <thead>\n",
       "    <tr style=\"text-align: right;\">\n",
       "      <th></th>\n",
       "      <th>PassengerId</th>\n",
       "      <th>Pclass</th>\n",
       "      <th>Name</th>\n",
       "      <th>Sex</th>\n",
       "      <th>Age</th>\n",
       "      <th>SibSp</th>\n",
       "      <th>Parch</th>\n",
       "      <th>Ticket</th>\n",
       "      <th>Fare</th>\n",
       "      <th>Cabin</th>\n",
       "      <th>Embarked</th>\n",
       "      <th>Modify</th>\n",
       "      <th>Survived</th>\n",
       "    </tr>\n",
       "  </thead>\n",
       "  <tbody>\n",
       "    <tr>\n",
       "      <th>0</th>\n",
       "      <td>892</td>\n",
       "      <td>3</td>\n",
       "      <td>Kelly, Mr. James</td>\n",
       "      <td>male</td>\n",
       "      <td>34.5</td>\n",
       "      <td>0</td>\n",
       "      <td>0</td>\n",
       "      <td>330911</td>\n",
       "      <td>7.8292</td>\n",
       "      <td>NaN</td>\n",
       "      <td>Q</td>\n",
       "      <td>test</td>\n",
       "      <td>NaN</td>\n",
       "    </tr>\n",
       "    <tr>\n",
       "      <th>1</th>\n",
       "      <td>893</td>\n",
       "      <td>3</td>\n",
       "      <td>Wilkes, Mrs. James (Ellen Needs)</td>\n",
       "      <td>female</td>\n",
       "      <td>47.0</td>\n",
       "      <td>1</td>\n",
       "      <td>0</td>\n",
       "      <td>363272</td>\n",
       "      <td>7.0000</td>\n",
       "      <td>NaN</td>\n",
       "      <td>S</td>\n",
       "      <td>test</td>\n",
       "      <td>NaN</td>\n",
       "    </tr>\n",
       "    <tr>\n",
       "      <th>2</th>\n",
       "      <td>894</td>\n",
       "      <td>2</td>\n",
       "      <td>Myles, Mr. Thomas Francis</td>\n",
       "      <td>male</td>\n",
       "      <td>62.0</td>\n",
       "      <td>0</td>\n",
       "      <td>0</td>\n",
       "      <td>240276</td>\n",
       "      <td>9.6875</td>\n",
       "      <td>NaN</td>\n",
       "      <td>Q</td>\n",
       "      <td>test</td>\n",
       "      <td>NaN</td>\n",
       "    </tr>\n",
       "    <tr>\n",
       "      <th>3</th>\n",
       "      <td>895</td>\n",
       "      <td>3</td>\n",
       "      <td>Wirz, Mr. Albert</td>\n",
       "      <td>male</td>\n",
       "      <td>27.0</td>\n",
       "      <td>0</td>\n",
       "      <td>0</td>\n",
       "      <td>315154</td>\n",
       "      <td>8.6625</td>\n",
       "      <td>NaN</td>\n",
       "      <td>S</td>\n",
       "      <td>test</td>\n",
       "      <td>NaN</td>\n",
       "    </tr>\n",
       "    <tr>\n",
       "      <th>4</th>\n",
       "      <td>896</td>\n",
       "      <td>3</td>\n",
       "      <td>Hirvonen, Mrs. Alexander (Helga E Lindqvist)</td>\n",
       "      <td>female</td>\n",
       "      <td>22.0</td>\n",
       "      <td>1</td>\n",
       "      <td>1</td>\n",
       "      <td>3101298</td>\n",
       "      <td>12.2875</td>\n",
       "      <td>NaN</td>\n",
       "      <td>S</td>\n",
       "      <td>test</td>\n",
       "      <td>NaN</td>\n",
       "    </tr>\n",
       "  </tbody>\n",
       "</table>\n",
       "</div>"
      ],
      "text/plain": [
       "   PassengerId  Pclass                                          Name     Sex  \\\n",
       "0          892       3                              Kelly, Mr. James    male   \n",
       "1          893       3              Wilkes, Mrs. James (Ellen Needs)  female   \n",
       "2          894       2                     Myles, Mr. Thomas Francis    male   \n",
       "3          895       3                              Wirz, Mr. Albert    male   \n",
       "4          896       3  Hirvonen, Mrs. Alexander (Helga E Lindqvist)  female   \n",
       "\n",
       "    Age  SibSp  Parch   Ticket     Fare Cabin Embarked Modify  Survived  \n",
       "0  34.5      0      0   330911   7.8292   NaN        Q   test       NaN  \n",
       "1  47.0      1      0   363272   7.0000   NaN        S   test       NaN  \n",
       "2  62.0      0      0   240276   9.6875   NaN        Q   test       NaN  \n",
       "3  27.0      0      0   315154   8.6625   NaN        S   test       NaN  \n",
       "4  22.0      1      1  3101298  12.2875   NaN        S   test       NaN  "
      ]
     },
     "execution_count": 3,
     "metadata": {},
     "output_type": "execute_result"
    }
   ],
   "source": [
    "# Fazendo diferenciação e união de planilhas\n",
    "\n",
    "test['Modify'] = 'test'\n",
    "train['Modify'] = 'train'\n",
    "\n",
    "df_final = pd.DataFrame()\n",
    "\n",
    "df_create = pd.concat([test, train])\n",
    "\n",
    "df_create.head(5)"
   ]
  },
  {
   "cell_type": "markdown",
   "id": "9cdb0303",
   "metadata": {},
   "source": [
    "### Passengerld"
   ]
  },
  {
   "cell_type": "markdown",
   "id": "0540be1d",
   "metadata": {},
   "source": [
    "A coluna \"Passengerld\" apenas escala de forma crescente, com o intervalo de 1 unidade. Logo, fica claro \n",
    "que a lógica dela não têm nenhuma interferência no comportamento de outras colunas, e conseguentemente\n",
    "também não influenciará na probabilidade do passageiro sobreviver ou não."
   ]
  },
  {
   "cell_type": "markdown",
   "id": "2ad5c51b",
   "metadata": {},
   "source": [
    "### Pclass"
   ]
  },
  {
   "cell_type": "code",
   "execution_count": 4,
   "id": "82066604",
   "metadata": {},
   "outputs": [
    {
     "name": "stdout",
     "output_type": "stream",
     "text": [
      "Existem 3 constantes únicas que são 709 \"3\", 323 \"1\", 277 \"2\" e 0 dados faltantes.\n"
     ]
    }
   ],
   "source": [
    "analise(df_create['Pclass'])"
   ]
  },
  {
   "cell_type": "code",
   "execution_count": 5,
   "id": "462bb9ae",
   "metadata": {},
   "outputs": [
    {
     "data": {
      "text/html": [
       "<div>\n",
       "<style scoped>\n",
       "    .dataframe tbody tr th:only-of-type {\n",
       "        vertical-align: middle;\n",
       "    }\n",
       "\n",
       "    .dataframe tbody tr th {\n",
       "        vertical-align: top;\n",
       "    }\n",
       "\n",
       "    .dataframe thead th {\n",
       "        text-align: right;\n",
       "    }\n",
       "</style>\n",
       "<table border=\"1\" class=\"dataframe\">\n",
       "  <thead>\n",
       "    <tr style=\"text-align: right;\">\n",
       "      <th></th>\n",
       "      <th>Pclass_1</th>\n",
       "      <th>Pclass_2</th>\n",
       "      <th>Pclass_3</th>\n",
       "    </tr>\n",
       "  </thead>\n",
       "  <tbody>\n",
       "    <tr>\n",
       "      <th>0</th>\n",
       "      <td>0</td>\n",
       "      <td>0</td>\n",
       "      <td>1</td>\n",
       "    </tr>\n",
       "    <tr>\n",
       "      <th>1</th>\n",
       "      <td>0</td>\n",
       "      <td>0</td>\n",
       "      <td>1</td>\n",
       "    </tr>\n",
       "    <tr>\n",
       "      <th>2</th>\n",
       "      <td>0</td>\n",
       "      <td>1</td>\n",
       "      <td>0</td>\n",
       "    </tr>\n",
       "    <tr>\n",
       "      <th>3</th>\n",
       "      <td>0</td>\n",
       "      <td>0</td>\n",
       "      <td>1</td>\n",
       "    </tr>\n",
       "    <tr>\n",
       "      <th>4</th>\n",
       "      <td>0</td>\n",
       "      <td>0</td>\n",
       "      <td>1</td>\n",
       "    </tr>\n",
       "  </tbody>\n",
       "</table>\n",
       "</div>"
      ],
      "text/plain": [
       "   Pclass_1  Pclass_2  Pclass_3\n",
       "0         0         0         1\n",
       "1         0         0         1\n",
       "2         0         1         0\n",
       "3         0         0         1\n",
       "4         0         0         1"
      ]
     },
     "execution_count": 5,
     "metadata": {},
     "output_type": "execute_result"
    }
   ],
   "source": [
    "'''\n",
    "Analisando a coluna, é nítido e notório que ela não precisa de nenhum tratamento estatístico de dados \n",
    "visto que existem poucas variáveis, e não nenhum dado faltantes.\n",
    "'''\n",
    "\n",
    "# Transformação das variáveis de \"Pclass\" em multiplas colunas que representam de forma binária os dados\n",
    "# de cada uma delas.\n",
    "\n",
    "Pclass = pd.get_dummies(df_create['Pclass'], prefix='Pclass')\n",
    "\n",
    "df_final = Pclass\n",
    "\n",
    "df_final.head(5)"
   ]
  },
  {
   "cell_type": "markdown",
   "id": "bc54aed3",
   "metadata": {},
   "source": [
    "### Name"
   ]
  },
  {
   "cell_type": "code",
   "execution_count": 6,
   "id": "bbd2c0f9",
   "metadata": {},
   "outputs": [
    {
     "name": "stdout",
     "output_type": "stream",
     "text": [
      "Existem 18 constantes únicas que são 757 \"Mr\", 260 \"Miss\", 197 \"Mrs\", 61 \"Master\", 8 \"Rev\", 8 \"Dr\", 4 \"Col\", 2 \"Ms\", 2 \"Major\", 2 \"Mlle\", 1 \"Sir\", 1 \"the Countess\", 1 \"Capt\", 1 \"Don\", 1 \"Lady\", 1 \"Mme\", 1 \"Dona\", 1 \"Jonkheer\" e 0 dados faltantes.\n"
     ]
    }
   ],
   "source": [
    "'''\n",
    "Casa passageiro possui um nome diferente, logo, não faz sentido fazer uma análise geral da coluna da forma\n",
    "que está. Porém, ao observar o nome dos passageiros nota-se que cada um possui um pronome de tratamento, e\n",
    "estes tendem a se repetir. Então, faz mais sentido classificar o nome dos passageiros com base neles, e aí\n",
    "sim fazer qualquer análise.\n",
    "'''\n",
    "\n",
    "# Separando pronomes de tratamento e transformando em coluna\n",
    "\n",
    "Name = []\n",
    "\n",
    "for i in df_create['Name']:\n",
    "    Name.append(i.split(', ')[1].split('.')[0])\n",
    "    \n",
    "df_create['Pronoun'] = Name\n",
    "\n",
    "analise(df_create['Pronoun'])"
   ]
  },
  {
   "cell_type": "code",
   "execution_count": 7,
   "id": "bdf7e33c",
   "metadata": {},
   "outputs": [
    {
     "data": {
      "text/plain": [
       "<Axes: xlabel='Pronoun', ylabel='count'>"
      ]
     },
     "execution_count": 7,
     "metadata": {},
     "output_type": "execute_result"
    },
    {
     "data": {
      "image/png": "[encoded data removed]",
      "text/plain": [
       "<Figure size 640x480 with 1 Axes>"
      ]
     },
     "metadata": {},
     "output_type": "display_data"
    }
   ],
   "source": [
    "'''\n",
    "Analisando os números, quatro pronomes de tratamento possuem a esmagadora maioria de participação nos dados\n",
    "em comparação aos restantes. Essa afirmação pode ser melhor visualizada em um gráfico de barras.\n",
    "'''\n",
    "\n",
    "# Plotando gráfico de barras de pronomes de tratamento\n",
    "\n",
    "colunas_de_pronomes = sns.set(font_scale=1)\n",
    "colunas_de_pronomes = sns.countplot(data=df_create, x='Pronoun')\n",
    "colunas_de_pronomes.set_xticklabels(colunas_de_pronomes.get_xticklabels(), rotation=90)\n",
    "\n",
    "for i in colunas_de_pronomes.patches:\n",
    "    colunas_de_pronomes.annotate(f'{i.get_height()}', \n",
    "                (i.get_x() + i.get_width() / 2., i.get_height()), \n",
    "                ha='center', va='center', \n",
    "                fontsize=8, color='black', xytext=(0, 5),\n",
    "                textcoords='offset points')\n",
    "\n",
    "colunas_de_pronomes"
   ]
  }
 ],
 "metadata": {
  "kernelspec": {
   "display_name": "Python 3 (ipykernel)",
   "language": "python",
   "name": "python3"
  },
  "language_info": {
   "codemirror_mode": {
    "name": "ipython",
    "version": 3
   },
   "file_extension": ".py",
   "mimetype": "text/x-python",
   "name": "python",
   "nbconvert_exporter": "python",
   "pygments_lexer": "ipython3",
   "version": "3.11.4"
  }
 },
 "nbformat": 4,
 "nbformat_minor": 5
}
